{
 "cells": [
  {
   "cell_type": "code",
   "execution_count": 1,
   "metadata": {
    "ExecuteTime": {
     "end_time": "2024-05-03T15:28:51.298872Z",
     "start_time": "2024-05-03T15:28:50.880928Z"
    },
    "metadata": {}
   },
   "outputs": [],
   "source": [
    "# library import\n",
    "import pandas as pd\n",
    "import csv\n",
    "import numpy as np\n",
    "import time\n",
    "import scipy\n",
    "import warnings\n",
    "import matplotlib.pyplot as plt\n"
   ]
  },
  {
   "cell_type": "code",
   "execution_count": 2,
   "metadata": {
    "ExecuteTime": {
     "end_time": "2024-05-03T15:28:51.333098Z",
     "start_time": "2024-05-03T15:28:51.330310Z"
    },
    "metadata": {}
   },
   "outputs": [
    {
     "name": "stdout",
     "output_type": "stream",
     "text": [
      "37\n",
      "['release_year', 'runtime', 'budget', 'revenue', 'adult', 'original_language', 'popularity', 'genre_Action', 'genre_Adventure', 'genre_Animation', 'genre_Comedy', 'genre_Crime', 'genre_Documentary', 'genre_Drama', 'genre_Family', 'genre_Fantasy', 'genre_History', 'genre_Horror', 'genre_Music', 'genre_Mystery', 'genre_Romance', 'genre_Science Fiction', 'genre_TV Movie', 'genre_Thriller', 'genre_War', 'genre_Western', 'product_of_Canada', 'product_of_France', 'product_of_Germany', 'product_of_India', 'product_of_Italy', 'product_of_Japan', 'product_of_Spain', 'product_of_UK', 'product_of_USA', 'product_of_other_countries', 'vote_count']\n"
     ]
    }
   ],
   "source": [
    "# remove features which are text, id, and labels \n",
    "def filter_csv_header(csv_file_path, strings_to_remove):\n",
    "    with open(csv_file_path, mode='r', encoding='utf-8') as file:\n",
    "        reader = csv.reader(file)\n",
    "        header = next(reader)\n",
    "        filtered_header = [column for column in header if column not in strings_to_remove]\n",
    "    return filtered_header\n",
    "\n",
    "text_features = [\"title\", \"overview\", \"tagline\", \"production_companies\"]\n",
    "label_features = [\"id\", \"rate_category\", \"average_rate\"]\n",
    "\n",
    "features_without_text = filter_csv_header(\"/Users/felikskong/Desktop/IML/A2/A2-Data_files/TMDB_evaluate.csv\", text_features + label_features)\n",
    "print(len(features_without_text))\n",
    "print(features_without_text)"
   ]
  },
  {
   "cell_type": "code",
   "execution_count": 3,
   "metadata": {
    "ExecuteTime": {
     "end_time": "2024-05-03T15:29:46.679298Z",
     "start_time": "2024-05-03T15:29:45.013527Z"
    },
    "metadata": {}
   },
   "outputs": [],
   "source": [
    "# read the three data sets\n",
    "train = pd.read_csv(\"A2-Data_files/TMDB_train.csv\")\n",
    "evaluate = pd.read_csv(\"A2-Data_files/TMDB_evaluate.csv\")\n",
    "test = pd.read_csv(\"A2-Data_files/TMDB_test.csv\")"
   ]
  },
  {
   "cell_type": "code",
   "execution_count": 4,
   "metadata": {
    "ExecuteTime": {
     "end_time": "2024-05-03T15:29:54.191165Z",
     "start_time": "2024-05-03T15:29:49.401134Z"
    },
    "metadata": {}
   },
   "outputs": [
    {
     "name": "stdout",
     "output_type": "stream",
     "text": [
      "132\n"
     ]
    }
   ],
   "source": [
    "# since some languages may not exist across three data sets, concatenate all the original_language columns\n",
    "from sklearn.preprocessing import LabelEncoder\n",
    "all_languages = pd.concat([train[\"original_language\"], evaluate[\"original_language\"], test[\"original_language\"]])\n",
    "label_encoder = LabelEncoder()\n",
    "label_encoder.fit(all_languages)\n",
    "print(len(label_encoder.classes_))\n",
    "train['original_language'] = label_encoder.transform(train['original_language'])\n",
    "evaluate['original_language'] = label_encoder.transform(evaluate['original_language'])\n",
    "test['original_language'] = label_encoder.transform(test['original_language'])\n"
   ]
  },
  {
   "cell_type": "code",
   "execution_count": 5,
   "metadata": {
    "ExecuteTime": {
     "end_time": "2024-05-03T15:30:10.621487Z",
     "start_time": "2024-05-03T15:30:08.101243Z"
    },
    "metadata": {}
   },
   "outputs": [],
   "source": [
    "# define a function to test accuracy for different models\n",
    "from sklearn.neighbors import KNeighborsClassifier\n",
    "from sklearn.naive_bayes import MultinomialNB\n",
    "from sklearn.tree import DecisionTreeClassifier\n",
    "from sklearn.linear_model import LogisticRegression\n",
    "from sklearn.neural_network import MLPClassifier\n",
    "\n",
    "accuracy_list = [[],[],[],[],[]]\n",
    "\n",
    "def test_models(x_train, y_train, x_evaluate, y_evaluate, feature_attribute):\n",
    "    model_names = [\"KNN\", \"MNB\", \"DT\", \"LR\", \"MLP\"]\n",
    "    model_instances = [\n",
    "        KNeighborsClassifier(),\n",
    "        MultinomialNB(),\n",
    "        DecisionTreeClassifier(),\n",
    "        LogisticRegression(solver='saga', max_iter=500, n_jobs=-1, verbose=0),\n",
    "        MLPClassifier()\n",
    "    ]\n",
    "    warnings.filterwarnings(\"ignore\", category=UserWarning, module='sklearn')\n",
    "    print(\"Results of \", feature_attribute)\n",
    "    for i in range(len(model_names)):\n",
    "        start = time.time()\n",
    "        model = model_instances[i]\n",
    "        model.fit(x_train, y_train)\n",
    "        acc = model.score(x_evaluate, y_evaluate)\n",
    "        acc = np.array(acc)\n",
    "        end = time.time()\n",
    "        elapsed_time = end - start\n",
    "        accuracy_list[i].append(acc.round(5))\n",
    "        print(f\"Time used: {elapsed_time:.3f} seconds, {model_names[i]} accuracy: {acc:.5f}\")"
   ]
  },
  {
   "cell_type": "code",
   "execution_count": 7,
   "metadata": {
    "metadata": {}
   },
   "outputs": [
    {
     "name": "stdout",
     "output_type": "stream",
     "text": [
      "(100000, 37)\n",
      "(100000, 1000)\n",
      "(100000, 1000)\n",
      "(100000, 1037)\n",
      "(100000, 1037)\n"
     ]
    }
   ],
   "source": [
    "# data preparation\n",
    "\n",
    "# 37 features eliminating text features\n",
    "X_train_without_text = train[features_without_text]\n",
    "X_evaluate_without_text = evaluate[features_without_text]\n",
    "# 1000 text features using bow\n",
    "X_train_text_bow = scipy.sparse.load_npz('A2-Data_files/TMDB_text_features_bow/train_concat_bow.npz')\n",
    "X_evaluate_text_bow = scipy.sparse.load_npz('A2-Data_files/TMDB_text_features_bow/eval_concat_bow.npz')\n",
    "# 1000 text features using tfidf\n",
    "X_train_text_tfidf = scipy.sparse.load_npz('A2-Data_files/TMDB_text_features_tfidf/train_concat_tfidf.npz')\n",
    "X_evaluate_text_tfidf = scipy.sparse.load_npz('A2-Data_files/TMDB_text_features_tfidf/eval_concat_tfidf.npz')\n",
    "# combine text and non-text features\n",
    "X_train_all_bow = np.concatenate((X_train_without_text.to_numpy(), X_train_text_bow.toarray()), axis=1)\n",
    "X_evaluate_all_bow = np.concatenate((X_evaluate_without_text.to_numpy(), X_evaluate_text_bow.toarray()), axis=1)\n",
    "X_train_all_tfidf = np.concatenate((X_train_without_text.to_numpy(), X_train_text_tfidf.toarray()), axis=1)\n",
    "X_evaluate_all_tfidf = np.concatenate((X_evaluate_without_text.to_numpy(), X_evaluate_text_tfidf.toarray()), axis=1)\n",
    "# use rate-category us label\n",
    "y_train_category = train['rate_category']\n",
    "y_evaluate_category = evaluate['rate_category']\n",
    "\n",
    "print(X_train_without_text.shape)\n",
    "print(X_train_text_bow.shape)\n",
    "print(X_train_text_tfidf.shape)\n",
    "print(X_train_all_bow.shape)\n",
    "print(X_train_all_tfidf.shape)"
   ]
  },
  {
   "cell_type": "code",
   "execution_count": 13,
   "metadata": {},
   "outputs": [
    {
     "name": "stdout",
     "output_type": "stream",
     "text": [
      "Zero Rule baseline 0.271\n"
     ]
    }
   ],
   "source": [
    "# use Zero R as accuracy baseline\n",
    "from sklearn.dummy import DummyClassifier\n",
    "from sklearn.metrics import accuracy_score\n",
    "\n",
    "zeroR = DummyClassifier(strategy=\"most_frequent\")\n",
    "zeroR.fit(X_train_without_text, y_train_category)\n",
    "\n",
    "predictions = zeroR.predict(X_evaluate_without_text)\n",
    "accuracy = accuracy_score(predictions, y_evaluate_category)\n",
    "print(\"Zero Rule baseline\", accuracy)\n",
    "\n",
    "# from sklearn.metrics import classification_report\n",
    "# reports = []\n",
    "# reports.append(classification_report(predictions, y_evaluate_category, digits=4))\n",
    "# reports.append(classification_report(predictions, y_evaluate_category, digits=4))\n",
    "\n",
    "# print(reports[0])\n",
    "# print(reports[1])\n"
   ]
  },
  {
   "cell_type": "code",
   "execution_count": 8,
   "metadata": {
    "ExecuteTime": {
     "end_time": "2024-05-03T15:33:28.231064Z",
     "start_time": "2024-05-03T15:30:40.406897Z"
    },
    "metadata": {}
   },
   "outputs": [
    {
     "name": "stdout",
     "output_type": "stream",
     "text": [
      "Results of  features_without_text\n",
      "Time used: 1.306 seconds, KNN accuracy: 0.41820\n",
      "Time used: 0.052 seconds, MNB accuracy: 0.11720\n",
      "Time used: 0.725 seconds, DT accuracy: 0.65630\n",
      "Time used: 33.575 seconds, LR accuracy: 0.26220\n",
      "Time used: 57.377 seconds, MLP accuracy: 0.32450\n"
     ]
    }
   ],
   "source": [
    "test_models(X_train_without_text, y_train_category, X_evaluate_without_text, y_evaluate_category, \"features_without_text\")"
   ]
  },
  {
   "cell_type": "code",
   "execution_count": 9,
   "metadata": {
    "metadata": {}
   },
   "outputs": [
    {
     "name": "stdout",
     "output_type": "stream",
     "text": [
      "Results of  features_text_bow\n",
      "Time used: 59.416 seconds, KNN accuracy: 0.34355\n",
      "Time used: 0.032 seconds, MNB accuracy: 0.27645\n",
      "Time used: 28.430 seconds, DT accuracy: 0.61655\n",
      "Time used: 32.274 seconds, LR accuracy: 0.30620\n",
      "Time used: 88.815 seconds, MLP accuracy: 0.56855\n"
     ]
    }
   ],
   "source": [
    "test_models(X_train_text_bow, y_train_category, X_evaluate_text_bow, y_evaluate_category, \"features_text_bow\")"
   ]
  },
  {
   "cell_type": "code",
   "execution_count": 10,
   "metadata": {
    "metadata": {}
   },
   "outputs": [
    {
     "name": "stdout",
     "output_type": "stream",
     "text": [
      "Results of  features_text_tfidf\n",
      "Time used: 58.682 seconds, KNN accuracy: 0.35675\n",
      "Time used: 0.022 seconds, MNB accuracy: 0.29590\n",
      "Time used: 35.972 seconds, DT accuracy: 0.61510\n",
      "Time used: 1.690 seconds, LR accuracy: 0.30620\n",
      "Time used: 87.022 seconds, MLP accuracy: 0.56065\n"
     ]
    }
   ],
   "source": [
    "test_models(X_train_text_tfidf, y_train_category, X_evaluate_text_tfidf, y_evaluate_category, \"features_text_tfidf\")"
   ]
  },
  {
   "cell_type": "code",
   "execution_count": 11,
   "metadata": {
    "metadata": {}
   },
   "outputs": [
    {
     "name": "stdout",
     "output_type": "stream",
     "text": [
      "Results of  features_all_bow\n",
      "Time used: 16.194 seconds, KNN accuracy: 0.40265\n",
      "Time used: 2.391 seconds, MNB accuracy: 0.11720\n",
      "Time used: 10.926 seconds, DT accuracy: 0.66365\n",
      "Time used: 896.666 seconds, LR accuracy: 0.26220\n",
      "Time used: 312.340 seconds, MLP accuracy: 0.36730\n"
     ]
    }
   ],
   "source": [
    "test_models(X_train_all_bow, y_train_category, X_evaluate_all_bow, y_evaluate_category, \"features_all_bow\")"
   ]
  },
  {
   "cell_type": "code",
   "execution_count": 12,
   "metadata": {
    "metadata": {}
   },
   "outputs": [
    {
     "name": "stdout",
     "output_type": "stream",
     "text": [
      "Results of  features_all_tfidf\n",
      "Time used: 17.602 seconds, KNN accuracy: 0.41730\n",
      "Time used: 3.524 seconds, MNB accuracy: 0.11720\n",
      "Time used: 16.773 seconds, DT accuracy: 0.65560\n",
      "Time used: 902.892 seconds, LR accuracy: 0.26220\n",
      "Time used: 175.107 seconds, MLP accuracy: 0.35320\n"
     ]
    }
   ],
   "source": [
    "test_models(X_train_all_tfidf, y_train_category, X_evaluate_all_tfidf, y_evaluate_category, \"features_all_tfidf\")"
   ]
  },
  {
   "cell_type": "code",
   "execution_count": 13,
   "metadata": {},
   "outputs": [
    {
     "data": {
      "image/png": "[encoded data removed]",
      "text/plain": [
       "<Figure size 640x480 with 1 Axes>"
      ]
     },
     "metadata": {},
     "output_type": "display_data"
    }
   ],
   "source": [
    "# accuracy_list = [[0.41820,0.34355,0.35675,0.40265,0.41730],\n",
    "#                  [0.11720,0.27645,0.29590,0.11720,0.11720],\n",
    "#                  [0.65685,0.61810,0.61435,0.66030,0.65485],\n",
    "#                  [0.26220,0.30625,0.30615,0.26220,0.26220],\n",
    "#                  [0.33600,0.57395,0.55865,0.37820,0.36140]]\n",
    "\n",
    "model_names = ['KNN', 'MNB', 'DT', 'LR', 'MLP']\n",
    "feature_groups = ['No Text Features', 'BoW Text only', 'TF-IDF Text only', 'All with BoW', 'All with TF-IDF']\n",
    "\n",
    "num_models = len(accuracy_list)\n",
    "x = np.arange(num_models)\n",
    "width = 0.15\n",
    "\n",
    "fig, ax = plt.subplots()\n",
    "for i in range(len(accuracy_list[0])):\n",
    "    feature_group_acc = [model[i] for model in accuracy_list]\n",
    "    ax.bar(x + i*width, feature_group_acc, width=width, label=feature_groups[i])\n",
    "\n",
    "ax.axhline(y=0.271, color='black', linestyle='-', linewidth=2)\n",
    "ax.text(0.7, 0.28, 'ZeroR \\nBaseline', verticalalignment='bottom', color='black')\n",
    "\n",
    "ax.set_ylabel('Accuracy')\n",
    "ax.set_xlabel('Models')\n",
    "ax.set_title('Model Accuracy by Feature Group')\n",
    "ax.set_xticks(x + width * 2)\n",
    "ax.set_xticklabels(model_names)\n",
    "ax.legend(title=\"Feature Group\")\n",
    "\n",
    "plt.show()"
   ]
  },
  {
   "cell_type": "code",
   "execution_count": 14,
   "metadata": {},
   "outputs": [],
   "source": [
    "# # predict test set\n",
    "# X_test_without_text = test[features_without_text]\n",
    "\n",
    "# dt = DecisionTreeClassifier()\n",
    "# dt.fit(X_train_without_text, y_train_category)\n",
    "# y_pred_test = dt.predict(X_test_without_text)\n",
    "\n",
    "# assert test.shape[0] == len(y_pred_test)\n",
    "\n",
    "# test[\"rate_category\"] = y_pred_test\n",
    "\n",
    "# test_out = test[[\"id\", \"rate_category\"]]\n",
    "# test_out.to_csv('test_predictions.csv', index=False)"
   ]
  },
  {
   "cell_type": "code",
   "execution_count": 15,
   "metadata": {},
   "outputs": [],
   "source": [
    "# # predict test set\n",
    "# from sklearn.ensemble import RandomForestClassifier\n",
    "\n",
    "# noise_features = ['genre_Western','product_of_India','product_of_Japan'] \n",
    "# features = filter_csv_header(\"/Users/felikskong/Desktop/IML/A2/A2-Data_files/TMDB_evaluate.csv\", text_features + label_features + noise_features)\n",
    "\n",
    "# X_test_without_text = test[features_without_text]\n",
    "\n",
    "# # dt = DecisionTreeClassifier()\n",
    "# # dt.fit(X_train_without_text, y_train_category)\n",
    "# # y_pred_test = dt.predict(X_test_without_text)\n",
    "\n",
    "# rf = RandomForestClassifier()\n",
    "# rf.fit(X_train_without_text, y_train_category)\n",
    "# y_pred_test = rf.predict(X_test_without_text)\n",
    "\n",
    "# assert test.shape[0] == len(y_pred_test)\n",
    "\n",
    "# test[\"rate_category\"] = y_pred_test\n",
    "\n",
    "# test_out = test[[\"id\", \"rate_category\"]]\n",
    "# test_out.to_csv('test_predictions.csv', index=False)"
   ]
  }
 ],
 "metadata": {
  "kernelspec": {
   "display_name": "base",
   "language": "python",
   "name": "python3"
  },
  "language_info": {
   "codemirror_mode": {
    "name": "ipython",
    "version": 3
   },
   "file_extension": ".py",
   "mimetype": "text/x-python",
   "name": "python",
   "nbconvert_exporter": "python",
   "pygments_lexer": "ipython3",
   "version": "3.11.4"
  }
 },
 "nbformat": 4,
 "nbformat_minor": 2
}
